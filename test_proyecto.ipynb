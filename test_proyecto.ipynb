{
 "cells": [
  {
   "cell_type": "code",
   "execution_count": 1,
   "id": "44b44d4c-fbb4-4f0d-a560-3e5b485fa19c",
   "metadata": {},
   "outputs": [],
   "source": [
    "#¿Existe relación entre los factores socioeconómicos y las tasas de suicidio, contagio de dengue y brotes de ETA en los departamentos de Bolívar, \n",
    "#Córdoba, Sucre y San Andrés?\n",
    "\n",
    "#C:\\\\Users\\\\knives\\\\Desktop\\\\Devs\\\\Python\\\\BootCampUTB\\\\Proyecto\\\\DataBases\\\\\n",
    "#df_fuente[\"estrato\",\"SEXO\",\"Departamento_ocurrencia\",\"FEC_NOT\",\"Municipio_ocurrencia\",\"Nom_upgd\",\"sem_ges\",\"edad\",\"ANO\"]"
   ]
  },
  {
   "cell_type": "code",
   "execution_count": 28,
   "id": "612a7283-3601-4525-9bfe-b40ad04317ff",
   "metadata": {},
   "outputs": [
    {
     "name": "stdout",
     "output_type": "stream",
     "text": [
      "         Partición  CONSECUTIVE  COD_EVE     FEC_NOT  SEMANA   ANO  \\\n",
      "5   Datos_2021_356      8713417      356  2021-02-25       8  2021   \n",
      "8   Datos_2021_356      8717081      356  2021-04-01      13  2021   \n",
      "29  Datos_2021_356      8260388      356  2021-11-06      44  2021   \n",
      "45  Datos_2021_356      8260404      356  2021-10-23      41  2021   \n",
      "59  Datos_2021_356      8260418      356  2021-06-20      25  2021   \n",
      "\n",
      "       COD_PRE  COD_SUB  EDAD  UNI_MED  ...  \\\n",
      "5   1343000492        1    14        1  ...   \n",
      "8   2306800238        1    30        1  ...   \n",
      "29  1300102568        1    15        1  ...   \n",
      "45  1300102568        1    33        1  ...   \n",
      "59  2330000347        1    25        1  ...   \n",
      "\n",
      "                               Nom_upgd Pais_ocurrencia        Nombre_evento  \\\n",
      "5   ESE HOSPITAL LA DIVINA MISERICORDIA        COLOMBIA  INTENTO DE SUICIDIO   \n",
      "8                ESE HOSPITAL SAN JORGE        COLOMBIA  INTENTO DE SUICIDIO   \n",
      "29              CLINICA LA MISERICORDIA        COLOMBIA  INTENTO DE SUICIDIO   \n",
      "45              CLINICA LA MISERICORDIA        COLOMBIA  INTENTO DE SUICIDIO   \n",
      "59          ESE CENTRO DE SALUD COTORRA        COLOMBIA  INTENTO DE SUICIDIO   \n",
      "\n",
      "    Departamento_ocurrencia  Municipio_ocurrencia  Pais_residencia  \\\n",
      "5                   BOLIVAR              MAGANGUE         COLOMBIA   \n",
      "8                   CORDOBA                AYAPEL         COLOMBIA   \n",
      "29                  BOLIVAR             CARTAGENA         COLOMBIA   \n",
      "45                  BOLIVAR             CARTAGENA         COLOMBIA   \n",
      "59                  CORDOBA               COTORRA         COLOMBIA   \n",
      "\n",
      "    Departamento_residencia  Municipio_residencia Departamento_Notificacion  \\\n",
      "5                   BOLIVAR              MAGANGUE                   BOLIVAR   \n",
      "8                   CORDOBA                AYAPEL                   CORDOBA   \n",
      "29                  BOLIVAR             CARTAGENA                   BOLIVAR   \n",
      "45                  BOLIVAR             CARTAGENA                   BOLIVAR   \n",
      "59                  CORDOBA               COTORRA                   CORDOBA   \n",
      "\n",
      "   Municipio_notificacion  \n",
      "5                MAGANGUE  \n",
      "8                  AYAPEL  \n",
      "29              CARTAGENA  \n",
      "45              CARTAGENA  \n",
      "59                COTORRA  \n",
      "\n",
      "[5 rows x 74 columns]\n"
     ]
    }
   ],
   "source": [
    "# Paso 1: Conexión con la fuente de datos (Archivo en Excel)\n",
    "\n",
    "#import dash\n",
    "#import dash_core_components as dcc\n",
    "#import dash_html_components as html\n",
    "import plotly.express as px\n",
    "import pandas as pd\n",
    "import datetime\n",
    "\n",
    "# Cargar los datos desde el archivo Excel\n",
    "df_fuente = pd.read_excel('C:\\\\Users\\\\knives\\\\Desktop\\\\Devs\\\\Python\\\\BootCampUTB\\\\Proyecto\\\\DataBases\\\\Datos_2021_356.xlsx')\n",
    "df = df_fuente\n",
    "\n",
    "# Filtrar por los departamentos especificados\n",
    "departamentos_filtrados = ['CORDOBA', 'SUCRE', 'BOLIVAR', 'SAN ANDRES']\n",
    "df = df[df['Departamento_ocurrencia'].isin(departamentos_filtrados)]\n",
    "\n",
    "# Mostrar los primeros registros del DataFrame para verificar\n",
    "print(df.head())"
   ]
  },
  {
   "cell_type": "code",
   "execution_count": 54,
   "id": "f11eca47-128e-4901-8b0a-216e798d04b7",
   "metadata": {},
   "outputs": [
    {
     "name": "stdout",
     "output_type": "stream",
     "text": [
      "            Partición  CONSECUTIVE  COD_EVE    FEC_NOT  SEMANA   ANO  \\\n",
      "0      Datos_2021_356      8717076      356 2021-11-24      47  2021   \n",
      "1      Datos_2021_356      8717077      356 2021-07-03      26  2021   \n",
      "2      Datos_2021_356      8717078      356 2021-10-21      42  2021   \n",
      "3      Datos_2021_356      8713415      356 2021-11-04      44  2021   \n",
      "4      Datos_2021_356      8713416      356 2021-08-25      34  2021   \n",
      "...               ...          ...      ...        ...     ...   ...   \n",
      "29787  Datos_2021_356      8879101      356 2021-07-29      30  2021   \n",
      "29788  Datos_2021_356      8879102      356 2021-04-13      15  2021   \n",
      "29789  Datos_2021_356      8879103      356 2021-11-12      45  2021   \n",
      "29790  Datos_2021_356      8879104      356 2022-01-03      52  2021   \n",
      "29791  Datos_2021_356      8879105      356 2021-04-19      16  2021   \n",
      "\n",
      "          COD_PRE  COD_SUB  EDAD  UNI_MED  ...  Municipio_ocurrencia  \\\n",
      "0      1100105668        1    12        1  ...                BOGOTA   \n",
      "1      1100185091       80    30        1  ...                BOGOTA   \n",
      "2      2575403633        1    30        1  ...                SOACHA   \n",
      "3      1100130291       14    15        1  ...                BOGOTA   \n",
      "4      2528602522        1    33        1  ...              MOSQUERA   \n",
      "...           ...      ...   ...      ...  ...                   ...   \n",
      "29787  2517500132        1    29        1  ...                  CHIA   \n",
      "29788  1100130289       29    29        1  ...                BOGOTA   \n",
      "29789  5200102047        1    29        1  ...                 PASTO   \n",
      "29790  1100130289        1    29        1  ...                BOGOTA   \n",
      "29791  1100130289        4    28        1  ...                BOGOTA   \n",
      "\n",
      "      Pais_residencia Departamento_residencia  Municipio_residencia  \\\n",
      "0            COLOMBIA                  BOGOTA                BOGOTA   \n",
      "1            COLOMBIA                  BOGOTA                BOGOTA   \n",
      "2            COLOMBIA            CUNDINAMARCA                SOACHA   \n",
      "3            COLOMBIA                  BOGOTA                BOGOTA   \n",
      "4            COLOMBIA            CUNDINAMARCA              MOSQUERA   \n",
      "...               ...                     ...                   ...   \n",
      "29787        COLOMBIA            CUNDINAMARCA                  CHIA   \n",
      "29788        COLOMBIA                  BOGOTA                BOGOTA   \n",
      "29789        COLOMBIA                  NARIÑO                 PASTO   \n",
      "29790        COLOMBIA                  BOGOTA                BOGOTA   \n",
      "29791        COLOMBIA                  BOGOTA                BOGOTA   \n",
      "\n",
      "       Departamento_Notificacion  Municipio_notificacion       Fecha   Año  \\\n",
      "0                         BOGOTA                  BOGOTA  2021-11-22  2021   \n",
      "1                         BOGOTA                  BOGOTA  2021-06-28  2021   \n",
      "2                   CUNDINAMARCA                  SOACHA  2021-10-18  2021   \n",
      "3                         BOGOTA                  BOGOTA  2021-11-01  2021   \n",
      "4                   CUNDINAMARCA                   FUNZA  2021-08-23  2021   \n",
      "...                          ...                     ...         ...   ...   \n",
      "29787               CUNDINAMARCA                    CHIA  2021-07-26  2021   \n",
      "29788                     BOGOTA                  BOGOTA  2021-04-12  2021   \n",
      "29789                     NARIÑO                   PASTO  2021-11-08  2021   \n",
      "29790                     BOGOTA                  BOGOTA  2021-12-27  2022   \n",
      "29791                     BOGOTA                  BOGOTA  2021-04-19  2021   \n",
      "\n",
      "            Mes Sexo  \n",
      "0      November    F  \n",
      "1          July    M  \n",
      "2       October    F  \n",
      "3      November    F  \n",
      "4        August    F  \n",
      "...         ...  ...  \n",
      "29787      July    F  \n",
      "29788     April    M  \n",
      "29789  November    M  \n",
      "29790   January    F  \n",
      "29791     April    F  \n",
      "\n",
      "[29792 rows x 78 columns]\n"
     ]
    }
   ],
   "source": [
    "# Función para convertir semana en fecha aproximada (primer día de la semana)\n",
    "def semana_a_fecha(anio, semana):\n",
    "    return datetime.datetime.strptime(f'{anio}-W{semana}-1', \"%Y-W%U-%w\").date()\n",
    "\n",
    "# Aplicar la función al DataFrame y cargar la fecha aproximada\n",
    "df['Fecha'] = df.apply(lambda row: semana_a_fecha(row['ANO'], row['SEMANA']), axis=1)\n",
    "\n",
    "# Mostrar el DataFrame resultante\n",
    "print(df)"
   ]
  },
  {
   "cell_type": "code",
   "execution_count": 58,
   "id": "f222a1f4-964f-491b-9db4-558b8abc1cbf",
   "metadata": {},
   "outputs": [
    {
     "name": "stdout",
     "output_type": "stream",
     "text": [
      "            Partición  CONSECUTIVE  COD_EVE    FEC_NOT  SEMANA   ANO  \\\n",
      "0      Datos_2021_356      8717076      356 2021-11-24      47  2021   \n",
      "1      Datos_2021_356      8717077      356 2021-07-03      26  2021   \n",
      "2      Datos_2021_356      8717078      356 2021-10-21      42  2021   \n",
      "3      Datos_2021_356      8713415      356 2021-11-04      44  2021   \n",
      "4      Datos_2021_356      8713416      356 2021-08-25      34  2021   \n",
      "...               ...          ...      ...        ...     ...   ...   \n",
      "29787  Datos_2021_356      8879101      356 2021-07-29      30  2021   \n",
      "29788  Datos_2021_356      8879102      356 2021-04-13      15  2021   \n",
      "29789  Datos_2021_356      8879103      356 2021-11-12      45  2021   \n",
      "29790  Datos_2021_356      8879104      356 2022-01-03      52  2021   \n",
      "29791  Datos_2021_356      8879105      356 2021-04-19      16  2021   \n",
      "\n",
      "          COD_PRE  COD_SUB  EDAD  UNI_MED  ...  Municipio_ocurrencia  \\\n",
      "0      1100105668        1    12        1  ...                BOGOTA   \n",
      "1      1100185091       80    30        1  ...                BOGOTA   \n",
      "2      2575403633        1    30        1  ...                SOACHA   \n",
      "3      1100130291       14    15        1  ...                BOGOTA   \n",
      "4      2528602522        1    33        1  ...              MOSQUERA   \n",
      "...           ...      ...   ...      ...  ...                   ...   \n",
      "29787  2517500132        1    29        1  ...                  CHIA   \n",
      "29788  1100130289       29    29        1  ...                BOGOTA   \n",
      "29789  5200102047        1    29        1  ...                 PASTO   \n",
      "29790  1100130289        1    29        1  ...                BOGOTA   \n",
      "29791  1100130289        4    28        1  ...                BOGOTA   \n",
      "\n",
      "      Pais_residencia Departamento_residencia  Municipio_residencia  \\\n",
      "0            COLOMBIA                  BOGOTA                BOGOTA   \n",
      "1            COLOMBIA                  BOGOTA                BOGOTA   \n",
      "2            COLOMBIA            CUNDINAMARCA                SOACHA   \n",
      "3            COLOMBIA                  BOGOTA                BOGOTA   \n",
      "4            COLOMBIA            CUNDINAMARCA              MOSQUERA   \n",
      "...               ...                     ...                   ...   \n",
      "29787        COLOMBIA            CUNDINAMARCA                  CHIA   \n",
      "29788        COLOMBIA                  BOGOTA                BOGOTA   \n",
      "29789        COLOMBIA                  NARIÑO                 PASTO   \n",
      "29790        COLOMBIA                  BOGOTA                BOGOTA   \n",
      "29791        COLOMBIA                  BOGOTA                BOGOTA   \n",
      "\n",
      "       Departamento_Notificacion  Municipio_notificacion      Fecha   Año  \\\n",
      "0                         BOGOTA                  BOGOTA 2021-11-22  2021   \n",
      "1                         BOGOTA                  BOGOTA 2021-06-28  2021   \n",
      "2                   CUNDINAMARCA                  SOACHA 2021-10-18  2021   \n",
      "3                         BOGOTA                  BOGOTA 2021-11-01  2021   \n",
      "4                   CUNDINAMARCA                   FUNZA 2021-08-23  2021   \n",
      "...                          ...                     ...        ...   ...   \n",
      "29787               CUNDINAMARCA                    CHIA 2021-07-26  2021   \n",
      "29788                     BOGOTA                  BOGOTA 2021-04-12  2021   \n",
      "29789                     NARIÑO                   PASTO 2021-11-08  2021   \n",
      "29790                     BOGOTA                  BOGOTA 2021-12-27  2022   \n",
      "29791                     BOGOTA                  BOGOTA 2021-04-19  2021   \n",
      "\n",
      "            Mes Sexo  \n",
      "0      November    F  \n",
      "1          July    M  \n",
      "2       October    F  \n",
      "3      November    F  \n",
      "4        August    F  \n",
      "...         ...  ...  \n",
      "29787      July    F  \n",
      "29788     April    M  \n",
      "29789  November    M  \n",
      "29790   January    F  \n",
      "29791     April    F  \n",
      "\n",
      "[29792 rows x 78 columns]\n"
     ]
    }
   ],
   "source": [
    "# Convertir la columna de fechas a tipo datetime\n",
    "df['Fecha'] = pd.to_datetime(df['Fecha'])\n",
    "\n",
    "# Extraer el año y el mes en nuevas columnas\n",
    "df['Año'] = df['Fecha'].dt.year\n",
    "df['Mes'] = df['Fecha'].dt.strftime('%B')\n",
    "df['Sexo'] = df['SEXO']\n",
    "\n",
    "print(df)"
   ]
  },
  {
   "cell_type": "code",
   "execution_count": 19,
   "id": "e590b77f-c5ee-40c9-bbbc-c23ec5c56aa4",
   "metadata": {},
   "outputs": [
    {
     "name": "stderr",
     "output_type": "stream",
     "text": [
      "C:\\Users\\knives\\AppData\\Local\\Temp\\ipykernel_11720\\3303172133.py:2: SettingWithCopyWarning:\n",
      "\n",
      "\n",
      "A value is trying to be set on a copy of a slice from a DataFrame.\n",
      "Try using .loc[row_indexer,col_indexer] = value instead\n",
      "\n",
      "See the caveats in the documentation: https://pandas.pydata.org/pandas-docs/stable/user_guide/indexing.html#returning-a-view-versus-a-copy\n",
      "\n",
      "C:\\Users\\knives\\AppData\\Local\\Temp\\ipykernel_11720\\3303172133.py:5: SettingWithCopyWarning:\n",
      "\n",
      "\n",
      "A value is trying to be set on a copy of a slice from a DataFrame.\n",
      "Try using .loc[row_indexer,col_indexer] = value instead\n",
      "\n",
      "See the caveats in the documentation: https://pandas.pydata.org/pandas-docs/stable/user_guide/indexing.html#returning-a-view-versus-a-copy\n",
      "\n",
      "C:\\Users\\knives\\AppData\\Local\\Temp\\ipykernel_11720\\3303172133.py:6: SettingWithCopyWarning:\n",
      "\n",
      "\n",
      "A value is trying to be set on a copy of a slice from a DataFrame.\n",
      "Try using .loc[row_indexer,col_indexer] = value instead\n",
      "\n",
      "See the caveats in the documentation: https://pandas.pydata.org/pandas-docs/stable/user_guide/indexing.html#returning-a-view-versus-a-copy\n",
      "\n",
      "C:\\Users\\knives\\AppData\\Local\\Temp\\ipykernel_11720\\3303172133.py:7: SettingWithCopyWarning:\n",
      "\n",
      "\n",
      "A value is trying to be set on a copy of a slice from a DataFrame.\n",
      "Try using .loc[row_indexer,col_indexer] = value instead\n",
      "\n",
      "See the caveats in the documentation: https://pandas.pydata.org/pandas-docs/stable/user_guide/indexing.html#returning-a-view-versus-a-copy\n",
      "\n"
     ]
    },
    {
     "data": {
      "application/vnd.plotly.v1+json": {
       "config": {
        "plotlyServerURL": "https://plot.ly"
       },
       "data": [
        {
         "alignmentgroup": "True",
         "hovertemplate": "SEXO=F<br>Mes=%{x}<br>Conteo=%{y}<extra></extra>",
         "legendgroup": "F",
         "marker": {
          "color": "#636efa",
          "pattern": {
           "shape": ""
          }
         },
         "name": "F",
         "offsetgroup": "F",
         "orientation": "v",
         "showlegend": true,
         "textposition": "auto",
         "type": "bar",
         "x": [
          "January",
          "February",
          "March",
          "April",
          "May",
          "June",
          "July",
          "August",
          "September",
          "October",
          "November",
          "December"
         ],
         "xaxis": "x",
         "y": [
          99,
          112,
          140,
          131,
          114,
          113,
          139,
          139,
          132,
          158,
          135,
          145
         ],
         "yaxis": "y"
        },
        {
         "alignmentgroup": "True",
         "hovertemplate": "SEXO=M<br>Mes=%{x}<br>Conteo=%{y}<extra></extra>",
         "legendgroup": "M",
         "marker": {
          "color": "#EF553B",
          "pattern": {
           "shape": ""
          }
         },
         "name": "M",
         "offsetgroup": "M",
         "orientation": "v",
         "showlegend": true,
         "textposition": "auto",
         "type": "bar",
         "x": [
          "January",
          "February",
          "March",
          "April",
          "May",
          "June",
          "July",
          "August",
          "September",
          "October",
          "November",
          "December"
         ],
         "xaxis": "x",
         "y": [
          40,
          58,
          51,
          62,
          58,
          58,
          61,
          64,
          62,
          82,
          66,
          53
         ],
         "yaxis": "y"
        }
       ],
       "layout": {
        "autosize": true,
        "barmode": "relative",
        "legend": {
         "title": {
          "text": "SEXO"
         },
         "tracegroupgap": 0
        },
        "margin": {
         "t": 60
        },
        "template": {
         "data": {
          "bar": [
           {
            "error_x": {
             "color": "#2a3f5f"
            },
            "error_y": {
             "color": "#2a3f5f"
            },
            "marker": {
             "line": {
              "color": "#E5ECF6",
              "width": 0.5
             },
             "pattern": {
              "fillmode": "overlay",
              "size": 10,
              "solidity": 0.2
             }
            },
            "type": "bar"
           }
          ],
          "barpolar": [
           {
            "marker": {
             "line": {
              "color": "#E5ECF6",
              "width": 0.5
             },
             "pattern": {
              "fillmode": "overlay",
              "size": 10,
              "solidity": 0.2
             }
            },
            "type": "barpolar"
           }
          ],
          "carpet": [
           {
            "aaxis": {
             "endlinecolor": "#2a3f5f",
             "gridcolor": "white",
             "linecolor": "white",
             "minorgridcolor": "white",
             "startlinecolor": "#2a3f5f"
            },
            "baxis": {
             "endlinecolor": "#2a3f5f",
             "gridcolor": "white",
             "linecolor": "white",
             "minorgridcolor": "white",
             "startlinecolor": "#2a3f5f"
            },
            "type": "carpet"
           }
          ],
          "choropleth": [
           {
            "colorbar": {
             "outlinewidth": 0,
             "ticks": ""
            },
            "type": "choropleth"
           }
          ],
          "contour": [
           {
            "colorbar": {
             "outlinewidth": 0,
             "ticks": ""
            },
            "colorscale": [
             [
              0,
              "#0d0887"
             ],
             [
              0.1111111111111111,
              "#46039f"
             ],
             [
              0.2222222222222222,
              "#7201a8"
             ],
             [
              0.3333333333333333,
              "#9c179e"
             ],
             [
              0.4444444444444444,
              "#bd3786"
             ],
             [
              0.5555555555555556,
              "#d8576b"
             ],
             [
              0.6666666666666666,
              "#ed7953"
             ],
             [
              0.7777777777777778,
              "#fb9f3a"
             ],
             [
              0.8888888888888888,
              "#fdca26"
             ],
             [
              1,
              "#f0f921"
             ]
            ],
            "type": "contour"
           }
          ],
          "contourcarpet": [
           {
            "colorbar": {
             "outlinewidth": 0,
             "ticks": ""
            },
            "type": "contourcarpet"
           }
          ],
          "heatmap": [
           {
            "colorbar": {
             "outlinewidth": 0,
             "ticks": ""
            },
            "colorscale": [
             [
              0,
              "#0d0887"
             ],
             [
              0.1111111111111111,
              "#46039f"
             ],
             [
              0.2222222222222222,
              "#7201a8"
             ],
             [
              0.3333333333333333,
              "#9c179e"
             ],
             [
              0.4444444444444444,
              "#bd3786"
             ],
             [
              0.5555555555555556,
              "#d8576b"
             ],
             [
              0.6666666666666666,
              "#ed7953"
             ],
             [
              0.7777777777777778,
              "#fb9f3a"
             ],
             [
              0.8888888888888888,
              "#fdca26"
             ],
             [
              1,
              "#f0f921"
             ]
            ],
            "type": "heatmap"
           }
          ],
          "heatmapgl": [
           {
            "colorbar": {
             "outlinewidth": 0,
             "ticks": ""
            },
            "colorscale": [
             [
              0,
              "#0d0887"
             ],
             [
              0.1111111111111111,
              "#46039f"
             ],
             [
              0.2222222222222222,
              "#7201a8"
             ],
             [
              0.3333333333333333,
              "#9c179e"
             ],
             [
              0.4444444444444444,
              "#bd3786"
             ],
             [
              0.5555555555555556,
              "#d8576b"
             ],
             [
              0.6666666666666666,
              "#ed7953"
             ],
             [
              0.7777777777777778,
              "#fb9f3a"
             ],
             [
              0.8888888888888888,
              "#fdca26"
             ],
             [
              1,
              "#f0f921"
             ]
            ],
            "type": "heatmapgl"
           }
          ],
          "histogram": [
           {
            "marker": {
             "pattern": {
              "fillmode": "overlay",
              "size": 10,
              "solidity": 0.2
             }
            },
            "type": "histogram"
           }
          ],
          "histogram2d": [
           {
            "colorbar": {
             "outlinewidth": 0,
             "ticks": ""
            },
            "colorscale": [
             [
              0,
              "#0d0887"
             ],
             [
              0.1111111111111111,
              "#46039f"
             ],
             [
              0.2222222222222222,
              "#7201a8"
             ],
             [
              0.3333333333333333,
              "#9c179e"
             ],
             [
              0.4444444444444444,
              "#bd3786"
             ],
             [
              0.5555555555555556,
              "#d8576b"
             ],
             [
              0.6666666666666666,
              "#ed7953"
             ],
             [
              0.7777777777777778,
              "#fb9f3a"
             ],
             [
              0.8888888888888888,
              "#fdca26"
             ],
             [
              1,
              "#f0f921"
             ]
            ],
            "type": "histogram2d"
           }
          ],
          "histogram2dcontour": [
           {
            "colorbar": {
             "outlinewidth": 0,
             "ticks": ""
            },
            "colorscale": [
             [
              0,
              "#0d0887"
             ],
             [
              0.1111111111111111,
              "#46039f"
             ],
             [
              0.2222222222222222,
              "#7201a8"
             ],
             [
              0.3333333333333333,
              "#9c179e"
             ],
             [
              0.4444444444444444,
              "#bd3786"
             ],
             [
              0.5555555555555556,
              "#d8576b"
             ],
             [
              0.6666666666666666,
              "#ed7953"
             ],
             [
              0.7777777777777778,
              "#fb9f3a"
             ],
             [
              0.8888888888888888,
              "#fdca26"
             ],
             [
              1,
              "#f0f921"
             ]
            ],
            "type": "histogram2dcontour"
           }
          ],
          "mesh3d": [
           {
            "colorbar": {
             "outlinewidth": 0,
             "ticks": ""
            },
            "type": "mesh3d"
           }
          ],
          "parcoords": [
           {
            "line": {
             "colorbar": {
              "outlinewidth": 0,
              "ticks": ""
             }
            },
            "type": "parcoords"
           }
          ],
          "pie": [
           {
            "automargin": true,
            "type": "pie"
           }
          ],
          "scatter": [
           {
            "fillpattern": {
             "fillmode": "overlay",
             "size": 10,
             "solidity": 0.2
            },
            "type": "scatter"
           }
          ],
          "scatter3d": [
           {
            "line": {
             "colorbar": {
              "outlinewidth": 0,
              "ticks": ""
             }
            },
            "marker": {
             "colorbar": {
              "outlinewidth": 0,
              "ticks": ""
             }
            },
            "type": "scatter3d"
           }
          ],
          "scattercarpet": [
           {
            "marker": {
             "colorbar": {
              "outlinewidth": 0,
              "ticks": ""
             }
            },
            "type": "scattercarpet"
           }
          ],
          "scattergeo": [
           {
            "marker": {
             "colorbar": {
              "outlinewidth": 0,
              "ticks": ""
             }
            },
            "type": "scattergeo"
           }
          ],
          "scattergl": [
           {
            "marker": {
             "colorbar": {
              "outlinewidth": 0,
              "ticks": ""
             }
            },
            "type": "scattergl"
           }
          ],
          "scattermapbox": [
           {
            "marker": {
             "colorbar": {
              "outlinewidth": 0,
              "ticks": ""
             }
            },
            "type": "scattermapbox"
           }
          ],
          "scatterpolar": [
           {
            "marker": {
             "colorbar": {
              "outlinewidth": 0,
              "ticks": ""
             }
            },
            "type": "scatterpolar"
           }
          ],
          "scatterpolargl": [
           {
            "marker": {
             "colorbar": {
              "outlinewidth": 0,
              "ticks": ""
             }
            },
            "type": "scatterpolargl"
           }
          ],
          "scatterternary": [
           {
            "marker": {
             "colorbar": {
              "outlinewidth": 0,
              "ticks": ""
             }
            },
            "type": "scatterternary"
           }
          ],
          "surface": [
           {
            "colorbar": {
             "outlinewidth": 0,
             "ticks": ""
            },
            "colorscale": [
             [
              0,
              "#0d0887"
             ],
             [
              0.1111111111111111,
              "#46039f"
             ],
             [
              0.2222222222222222,
              "#7201a8"
             ],
             [
              0.3333333333333333,
              "#9c179e"
             ],
             [
              0.4444444444444444,
              "#bd3786"
             ],
             [
              0.5555555555555556,
              "#d8576b"
             ],
             [
              0.6666666666666666,
              "#ed7953"
             ],
             [
              0.7777777777777778,
              "#fb9f3a"
             ],
             [
              0.8888888888888888,
              "#fdca26"
             ],
             [
              1,
              "#f0f921"
             ]
            ],
            "type": "surface"
           }
          ],
          "table": [
           {
            "cells": {
             "fill": {
              "color": "#EBF0F8"
             },
             "line": {
              "color": "white"
             }
            },
            "header": {
             "fill": {
              "color": "#C8D4E3"
             },
             "line": {
              "color": "white"
             }
            },
            "type": "table"
           }
          ]
         },
         "layout": {
          "annotationdefaults": {
           "arrowcolor": "#2a3f5f",
           "arrowhead": 0,
           "arrowwidth": 1
          },
          "autotypenumbers": "strict",
          "coloraxis": {
           "colorbar": {
            "outlinewidth": 0,
            "ticks": ""
           }
          },
          "colorscale": {
           "diverging": [
            [
             0,
             "#8e0152"
            ],
            [
             0.1,
             "#c51b7d"
            ],
            [
             0.2,
             "#de77ae"
            ],
            [
             0.3,
             "#f1b6da"
            ],
            [
             0.4,
             "#fde0ef"
            ],
            [
             0.5,
             "#f7f7f7"
            ],
            [
             0.6,
             "#e6f5d0"
            ],
            [
             0.7,
             "#b8e186"
            ],
            [
             0.8,
             "#7fbc41"
            ],
            [
             0.9,
             "#4d9221"
            ],
            [
             1,
             "#276419"
            ]
           ],
           "sequential": [
            [
             0,
             "#0d0887"
            ],
            [
             0.1111111111111111,
             "#46039f"
            ],
            [
             0.2222222222222222,
             "#7201a8"
            ],
            [
             0.3333333333333333,
             "#9c179e"
            ],
            [
             0.4444444444444444,
             "#bd3786"
            ],
            [
             0.5555555555555556,
             "#d8576b"
            ],
            [
             0.6666666666666666,
             "#ed7953"
            ],
            [
             0.7777777777777778,
             "#fb9f3a"
            ],
            [
             0.8888888888888888,
             "#fdca26"
            ],
            [
             1,
             "#f0f921"
            ]
           ],
           "sequentialminus": [
            [
             0,
             "#0d0887"
            ],
            [
             0.1111111111111111,
             "#46039f"
            ],
            [
             0.2222222222222222,
             "#7201a8"
            ],
            [
             0.3333333333333333,
             "#9c179e"
            ],
            [
             0.4444444444444444,
             "#bd3786"
            ],
            [
             0.5555555555555556,
             "#d8576b"
            ],
            [
             0.6666666666666666,
             "#ed7953"
            ],
            [
             0.7777777777777778,
             "#fb9f3a"
            ],
            [
             0.8888888888888888,
             "#fdca26"
            ],
            [
             1,
             "#f0f921"
            ]
           ]
          },
          "colorway": [
           "#636efa",
           "#EF553B",
           "#00cc96",
           "#ab63fa",
           "#FFA15A",
           "#19d3f3",
           "#FF6692",
           "#B6E880",
           "#FF97FF",
           "#FECB52"
          ],
          "font": {
           "color": "#2a3f5f"
          },
          "geo": {
           "bgcolor": "white",
           "lakecolor": "white",
           "landcolor": "#E5ECF6",
           "showlakes": true,
           "showland": true,
           "subunitcolor": "white"
          },
          "hoverlabel": {
           "align": "left"
          },
          "hovermode": "closest",
          "mapbox": {
           "style": "light"
          },
          "paper_bgcolor": "white",
          "plot_bgcolor": "#E5ECF6",
          "polar": {
           "angularaxis": {
            "gridcolor": "white",
            "linecolor": "white",
            "ticks": ""
           },
           "bgcolor": "#E5ECF6",
           "radialaxis": {
            "gridcolor": "white",
            "linecolor": "white",
            "ticks": ""
           }
          },
          "scene": {
           "xaxis": {
            "backgroundcolor": "#E5ECF6",
            "gridcolor": "white",
            "gridwidth": 2,
            "linecolor": "white",
            "showbackground": true,
            "ticks": "",
            "zerolinecolor": "white"
           },
           "yaxis": {
            "backgroundcolor": "#E5ECF6",
            "gridcolor": "white",
            "gridwidth": 2,
            "linecolor": "white",
            "showbackground": true,
            "ticks": "",
            "zerolinecolor": "white"
           },
           "zaxis": {
            "backgroundcolor": "#E5ECF6",
            "gridcolor": "white",
            "gridwidth": 2,
            "linecolor": "white",
            "showbackground": true,
            "ticks": "",
            "zerolinecolor": "white"
           }
          },
          "shapedefaults": {
           "line": {
            "color": "#2a3f5f"
           }
          },
          "ternary": {
           "aaxis": {
            "gridcolor": "white",
            "linecolor": "white",
            "ticks": ""
           },
           "baxis": {
            "gridcolor": "white",
            "linecolor": "white",
            "ticks": ""
           },
           "bgcolor": "#E5ECF6",
           "caxis": {
            "gridcolor": "white",
            "linecolor": "white",
            "ticks": ""
           }
          },
          "title": {
           "x": 0.05
          },
          "xaxis": {
           "automargin": true,
           "gridcolor": "white",
           "linecolor": "white",
           "ticks": "",
           "title": {
            "standoff": 15
           },
           "zerolinecolor": "white",
           "zerolinewidth": 2
          },
          "yaxis": {
           "automargin": true,
           "gridcolor": "white",
           "linecolor": "white",
           "ticks": "",
           "title": {
            "standoff": 15
           },
           "zerolinecolor": "white",
           "zerolinewidth": 2
          }
         }
        },
        "xaxis": {
         "anchor": "y",
         "autorange": true,
         "domain": [
          0,
          1
         ],
         "range": [
          -0.5,
          11.5
         ],
         "title": {
          "text": "Mes"
         },
         "type": "category"
        },
        "yaxis": {
         "anchor": "x",
         "autorange": true,
         "domain": [
          0,
          1
         ],
         "range": [
          0,
          252.6315789473684
         ],
         "title": {
          "text": "Conteo"
         },
         "type": "linear"
        }
       }
      },
      "image/png": "[encoded data removed]",
      "text/html": [
       "<div>                            <div id=\"3f7e9cf5-2b4f-45fd-b524-764f36592917\" class=\"plotly-graph-div\" style=\"height:525px; width:100%;\"></div>            <script type=\"text/javascript\">                require([\"plotly\"], function(Plotly) {                    window.PLOTLYENV=window.PLOTLYENV || {};                                    if (document.getElementById(\"3f7e9cf5-2b4f-45fd-b524-764f36592917\")) {                    Plotly.newPlot(                        \"3f7e9cf5-2b4f-45fd-b524-764f36592917\",                        [{\"alignmentgroup\":\"True\",\"hovertemplate\":\"SEXO=F\\u003cbr\\u003eMes=%{x}\\u003cbr\\u003eConteo=%{y}\\u003cextra\\u003e\\u003c\\u002fextra\\u003e\",\"legendgroup\":\"F\",\"marker\":{\"color\":\"#636efa\",\"pattern\":{\"shape\":\"\"}},\"name\":\"F\",\"offsetgroup\":\"F\",\"orientation\":\"v\",\"showlegend\":true,\"textposition\":\"auto\",\"x\":[\"January\",\"February\",\"March\",\"April\",\"May\",\"June\",\"July\",\"August\",\"September\",\"October\",\"November\",\"December\"],\"xaxis\":\"x\",\"y\":[99,112,140,131,114,113,139,139,132,158,135,145],\"yaxis\":\"y\",\"type\":\"bar\"},{\"alignmentgroup\":\"True\",\"hovertemplate\":\"SEXO=M\\u003cbr\\u003eMes=%{x}\\u003cbr\\u003eConteo=%{y}\\u003cextra\\u003e\\u003c\\u002fextra\\u003e\",\"legendgroup\":\"M\",\"marker\":{\"color\":\"#EF553B\",\"pattern\":{\"shape\":\"\"}},\"name\":\"M\",\"offsetgroup\":\"M\",\"orientation\":\"v\",\"showlegend\":true,\"textposition\":\"auto\",\"x\":[\"January\",\"February\",\"March\",\"April\",\"May\",\"June\",\"July\",\"August\",\"September\",\"October\",\"November\",\"December\"],\"xaxis\":\"x\",\"y\":[40,58,51,62,58,58,61,64,62,82,66,53],\"yaxis\":\"y\",\"type\":\"bar\"}],                        {\"template\":{\"data\":{\"histogram2dcontour\":[{\"type\":\"histogram2dcontour\",\"colorbar\":{\"outlinewidth\":0,\"ticks\":\"\"},\"colorscale\":[[0.0,\"#0d0887\"],[0.1111111111111111,\"#46039f\"],[0.2222222222222222,\"#7201a8\"],[0.3333333333333333,\"#9c179e\"],[0.4444444444444444,\"#bd3786\"],[0.5555555555555556,\"#d8576b\"],[0.6666666666666666,\"#ed7953\"],[0.7777777777777778,\"#fb9f3a\"],[0.8888888888888888,\"#fdca26\"],[1.0,\"#f0f921\"]]}],\"choropleth\":[{\"type\":\"choropleth\",\"colorbar\":{\"outlinewidth\":0,\"ticks\":\"\"}}],\"histogram2d\":[{\"type\":\"histogram2d\",\"colorbar\":{\"outlinewidth\":0,\"ticks\":\"\"},\"colorscale\":[[0.0,\"#0d0887\"],[0.1111111111111111,\"#46039f\"],[0.2222222222222222,\"#7201a8\"],[0.3333333333333333,\"#9c179e\"],[0.4444444444444444,\"#bd3786\"],[0.5555555555555556,\"#d8576b\"],[0.6666666666666666,\"#ed7953\"],[0.7777777777777778,\"#fb9f3a\"],[0.8888888888888888,\"#fdca26\"],[1.0,\"#f0f921\"]]}],\"heatmap\":[{\"type\":\"heatmap\",\"colorbar\":{\"outlinewidth\":0,\"ticks\":\"\"},\"colorscale\":[[0.0,\"#0d0887\"],[0.1111111111111111,\"#46039f\"],[0.2222222222222222,\"#7201a8\"],[0.3333333333333333,\"#9c179e\"],[0.4444444444444444,\"#bd3786\"],[0.5555555555555556,\"#d8576b\"],[0.6666666666666666,\"#ed7953\"],[0.7777777777777778,\"#fb9f3a\"],[0.8888888888888888,\"#fdca26\"],[1.0,\"#f0f921\"]]}],\"heatmapgl\":[{\"type\":\"heatmapgl\",\"colorbar\":{\"outlinewidth\":0,\"ticks\":\"\"},\"colorscale\":[[0.0,\"#0d0887\"],[0.1111111111111111,\"#46039f\"],[0.2222222222222222,\"#7201a8\"],[0.3333333333333333,\"#9c179e\"],[0.4444444444444444,\"#bd3786\"],[0.5555555555555556,\"#d8576b\"],[0.6666666666666666,\"#ed7953\"],[0.7777777777777778,\"#fb9f3a\"],[0.8888888888888888,\"#fdca26\"],[1.0,\"#f0f921\"]]}],\"contourcarpet\":[{\"type\":\"contourcarpet\",\"colorbar\":{\"outlinewidth\":0,\"ticks\":\"\"}}],\"contour\":[{\"type\":\"contour\",\"colorbar\":{\"outlinewidth\":0,\"ticks\":\"\"},\"colorscale\":[[0.0,\"#0d0887\"],[0.1111111111111111,\"#46039f\"],[0.2222222222222222,\"#7201a8\"],[0.3333333333333333,\"#9c179e\"],[0.4444444444444444,\"#bd3786\"],[0.5555555555555556,\"#d8576b\"],[0.6666666666666666,\"#ed7953\"],[0.7777777777777778,\"#fb9f3a\"],[0.8888888888888888,\"#fdca26\"],[1.0,\"#f0f921\"]]}],\"surface\":[{\"type\":\"surface\",\"colorbar\":{\"outlinewidth\":0,\"ticks\":\"\"},\"colorscale\":[[0.0,\"#0d0887\"],[0.1111111111111111,\"#46039f\"],[0.2222222222222222,\"#7201a8\"],[0.3333333333333333,\"#9c179e\"],[0.4444444444444444,\"#bd3786\"],[0.5555555555555556,\"#d8576b\"],[0.6666666666666666,\"#ed7953\"],[0.7777777777777778,\"#fb9f3a\"],[0.8888888888888888,\"#fdca26\"],[1.0,\"#f0f921\"]]}],\"mesh3d\":[{\"type\":\"mesh3d\",\"colorbar\":{\"outlinewidth\":0,\"ticks\":\"\"}}],\"scatter\":[{\"fillpattern\":{\"fillmode\":\"overlay\",\"size\":10,\"solidity\":0.2},\"type\":\"scatter\"}],\"parcoords\":[{\"type\":\"parcoords\",\"line\":{\"colorbar\":{\"outlinewidth\":0,\"ticks\":\"\"}}}],\"scatterpolargl\":[{\"type\":\"scatterpolargl\",\"marker\":{\"colorbar\":{\"outlinewidth\":0,\"ticks\":\"\"}}}],\"bar\":[{\"error_x\":{\"color\":\"#2a3f5f\"},\"error_y\":{\"color\":\"#2a3f5f\"},\"marker\":{\"line\":{\"color\":\"#E5ECF6\",\"width\":0.5},\"pattern\":{\"fillmode\":\"overlay\",\"size\":10,\"solidity\":0.2}},\"type\":\"bar\"}],\"scattergeo\":[{\"type\":\"scattergeo\",\"marker\":{\"colorbar\":{\"outlinewidth\":0,\"ticks\":\"\"}}}],\"scatterpolar\":[{\"type\":\"scatterpolar\",\"marker\":{\"colorbar\":{\"outlinewidth\":0,\"ticks\":\"\"}}}],\"histogram\":[{\"marker\":{\"pattern\":{\"fillmode\":\"overlay\",\"size\":10,\"solidity\":0.2}},\"type\":\"histogram\"}],\"scattergl\":[{\"type\":\"scattergl\",\"marker\":{\"colorbar\":{\"outlinewidth\":0,\"ticks\":\"\"}}}],\"scatter3d\":[{\"type\":\"scatter3d\",\"line\":{\"colorbar\":{\"outlinewidth\":0,\"ticks\":\"\"}},\"marker\":{\"colorbar\":{\"outlinewidth\":0,\"ticks\":\"\"}}}],\"scattermapbox\":[{\"type\":\"scattermapbox\",\"marker\":{\"colorbar\":{\"outlinewidth\":0,\"ticks\":\"\"}}}],\"scatterternary\":[{\"type\":\"scatterternary\",\"marker\":{\"colorbar\":{\"outlinewidth\":0,\"ticks\":\"\"}}}],\"scattercarpet\":[{\"type\":\"scattercarpet\",\"marker\":{\"colorbar\":{\"outlinewidth\":0,\"ticks\":\"\"}}}],\"carpet\":[{\"aaxis\":{\"endlinecolor\":\"#2a3f5f\",\"gridcolor\":\"white\",\"linecolor\":\"white\",\"minorgridcolor\":\"white\",\"startlinecolor\":\"#2a3f5f\"},\"baxis\":{\"endlinecolor\":\"#2a3f5f\",\"gridcolor\":\"white\",\"linecolor\":\"white\",\"minorgridcolor\":\"white\",\"startlinecolor\":\"#2a3f5f\"},\"type\":\"carpet\"}],\"table\":[{\"cells\":{\"fill\":{\"color\":\"#EBF0F8\"},\"line\":{\"color\":\"white\"}},\"header\":{\"fill\":{\"color\":\"#C8D4E3\"},\"line\":{\"color\":\"white\"}},\"type\":\"table\"}],\"barpolar\":[{\"marker\":{\"line\":{\"color\":\"#E5ECF6\",\"width\":0.5},\"pattern\":{\"fillmode\":\"overlay\",\"size\":10,\"solidity\":0.2}},\"type\":\"barpolar\"}],\"pie\":[{\"automargin\":true,\"type\":\"pie\"}]},\"layout\":{\"autotypenumbers\":\"strict\",\"colorway\":[\"#636efa\",\"#EF553B\",\"#00cc96\",\"#ab63fa\",\"#FFA15A\",\"#19d3f3\",\"#FF6692\",\"#B6E880\",\"#FF97FF\",\"#FECB52\"],\"font\":{\"color\":\"#2a3f5f\"},\"hovermode\":\"closest\",\"hoverlabel\":{\"align\":\"left\"},\"paper_bgcolor\":\"white\",\"plot_bgcolor\":\"#E5ECF6\",\"polar\":{\"bgcolor\":\"#E5ECF6\",\"angularaxis\":{\"gridcolor\":\"white\",\"linecolor\":\"white\",\"ticks\":\"\"},\"radialaxis\":{\"gridcolor\":\"white\",\"linecolor\":\"white\",\"ticks\":\"\"}},\"ternary\":{\"bgcolor\":\"#E5ECF6\",\"aaxis\":{\"gridcolor\":\"white\",\"linecolor\":\"white\",\"ticks\":\"\"},\"baxis\":{\"gridcolor\":\"white\",\"linecolor\":\"white\",\"ticks\":\"\"},\"caxis\":{\"gridcolor\":\"white\",\"linecolor\":\"white\",\"ticks\":\"\"}},\"coloraxis\":{\"colorbar\":{\"outlinewidth\":0,\"ticks\":\"\"}},\"colorscale\":{\"sequential\":[[0.0,\"#0d0887\"],[0.1111111111111111,\"#46039f\"],[0.2222222222222222,\"#7201a8\"],[0.3333333333333333,\"#9c179e\"],[0.4444444444444444,\"#bd3786\"],[0.5555555555555556,\"#d8576b\"],[0.6666666666666666,\"#ed7953\"],[0.7777777777777778,\"#fb9f3a\"],[0.8888888888888888,\"#fdca26\"],[1.0,\"#f0f921\"]],\"sequentialminus\":[[0.0,\"#0d0887\"],[0.1111111111111111,\"#46039f\"],[0.2222222222222222,\"#7201a8\"],[0.3333333333333333,\"#9c179e\"],[0.4444444444444444,\"#bd3786\"],[0.5555555555555556,\"#d8576b\"],[0.6666666666666666,\"#ed7953\"],[0.7777777777777778,\"#fb9f3a\"],[0.8888888888888888,\"#fdca26\"],[1.0,\"#f0f921\"]],\"diverging\":[[0,\"#8e0152\"],[0.1,\"#c51b7d\"],[0.2,\"#de77ae\"],[0.3,\"#f1b6da\"],[0.4,\"#fde0ef\"],[0.5,\"#f7f7f7\"],[0.6,\"#e6f5d0\"],[0.7,\"#b8e186\"],[0.8,\"#7fbc41\"],[0.9,\"#4d9221\"],[1,\"#276419\"]]},\"xaxis\":{\"gridcolor\":\"white\",\"linecolor\":\"white\",\"ticks\":\"\",\"title\":{\"standoff\":15},\"zerolinecolor\":\"white\",\"automargin\":true,\"zerolinewidth\":2},\"yaxis\":{\"gridcolor\":\"white\",\"linecolor\":\"white\",\"ticks\":\"\",\"title\":{\"standoff\":15},\"zerolinecolor\":\"white\",\"automargin\":true,\"zerolinewidth\":2},\"scene\":{\"xaxis\":{\"backgroundcolor\":\"#E5ECF6\",\"gridcolor\":\"white\",\"linecolor\":\"white\",\"showbackground\":true,\"ticks\":\"\",\"zerolinecolor\":\"white\",\"gridwidth\":2},\"yaxis\":{\"backgroundcolor\":\"#E5ECF6\",\"gridcolor\":\"white\",\"linecolor\":\"white\",\"showbackground\":true,\"ticks\":\"\",\"zerolinecolor\":\"white\",\"gridwidth\":2},\"zaxis\":{\"backgroundcolor\":\"#E5ECF6\",\"gridcolor\":\"white\",\"linecolor\":\"white\",\"showbackground\":true,\"ticks\":\"\",\"zerolinecolor\":\"white\",\"gridwidth\":2}},\"shapedefaults\":{\"line\":{\"color\":\"#2a3f5f\"}},\"annotationdefaults\":{\"arrowcolor\":\"#2a3f5f\",\"arrowhead\":0,\"arrowwidth\":1},\"geo\":{\"bgcolor\":\"white\",\"landcolor\":\"#E5ECF6\",\"subunitcolor\":\"white\",\"showland\":true,\"showlakes\":true,\"lakecolor\":\"white\"},\"title\":{\"x\":0.05},\"mapbox\":{\"style\":\"light\"}}},\"xaxis\":{\"anchor\":\"y\",\"domain\":[0.0,1.0],\"title\":{\"text\":\"Mes\"}},\"yaxis\":{\"anchor\":\"x\",\"domain\":[0.0,1.0],\"title\":{\"text\":\"Conteo\"}},\"legend\":{\"title\":{\"text\":\"SEXO\"},\"tracegroupgap\":0},\"margin\":{\"t\":60},\"barmode\":\"relative\"},                        {\"responsive\": true}                    ).then(function(){\n",
       "                            \n",
       "var gd = document.getElementById('3f7e9cf5-2b4f-45fd-b524-764f36592917');\n",
       "var x = new MutationObserver(function (mutations, observer) {{\n",
       "        var display = window.getComputedStyle(gd).display;\n",
       "        if (!display || display === 'none') {{\n",
       "            console.log([gd, 'removed!']);\n",
       "            Plotly.purge(gd);\n",
       "            observer.disconnect();\n",
       "        }}\n",
       "}});\n",
       "\n",
       "// Listen for the removal of the full notebook cells\n",
       "var notebookContainer = gd.closest('#notebook-container');\n",
       "if (notebookContainer) {{\n",
       "    x.observe(notebookContainer, {childList: true});\n",
       "}}\n",
       "\n",
       "// Listen for the clearing of the current output cell\n",
       "var outputEl = gd.closest('.output');\n",
       "if (outputEl) {{\n",
       "    x.observe(outputEl, {childList: true});\n",
       "}}\n",
       "\n",
       "                        })                };                });            </script>        </div>"
      ]
     },
     "metadata": {},
     "output_type": "display_data"
    }
   ],
   "source": [
    "# Agrupar por Mes y Sexo y contar los registros\n",
    "df_grouped = df.groupby(['Mes', 'SEXO']).size().reset_index(name='Conteo')\n",
    "\n",
    "# Ordenar los meses cronológicamente\n",
    "meses_ordenados = ['January', 'February', 'March', 'April', 'May', 'June', 'July', 'August', 'September', 'October', 'November', 'December']\n",
    "df_grouped['Mes'] = pd.Categorical(df_grouped['Mes'], categories=meses_ordenados, ordered=True)\n",
    "df_grouped = df_grouped.sort_values('Mes')\n",
    "\n",
    "# Crear el gráfico de líneas\n",
    "fig = px.bar(df_grouped, x='Mes', y='Conteo', color='SEXO', title='')\n",
    "\n",
    "# Mostrar el gráfico\n",
    "\n",
    "fig.show()"
   ]
  },
  {
   "cell_type": "code",
   "execution_count": 23,
   "id": "e0a2b340-8a16-4348-aef7-9c2ae86743cf",
   "metadata": {},
   "outputs": [
    {
     "name": "stdout",
     "output_type": "stream",
     "text": [
      "2023-12-11\n"
     ]
    }
   ],
   "source": [
    "\n",
    "\n",
    "\n",
    "\n",
    "# Supongamos que tienes el año y el número de semana\n",
    "anio = 2023\n",
    "semana = 50\n",
    "\n",
    "# Encontrar el primer día de la semana\n",
    "primer_dia_semana = datetime.datetime.strptime(f'{anio}-W{semana}-1', \"%Y-W%U-%w\").date()\n",
    "\n",
    "# Mostrar la fecha correspondiente\n",
    "print(primer_dia_semana)\n"
   ]
  },
  {
   "cell_type": "code",
   "execution_count": null,
   "id": "5c9d0382-80f0-4dd5-9fe8-38587b090d7e",
   "metadata": {},
   "outputs": [],
   "source": []
  }
 ],
 "metadata": {
  "kernelspec": {
   "display_name": "Python 3 (ipykernel)",
   "language": "python",
   "name": "python3"
  },
  "language_info": {
   "codemirror_mode": {
    "name": "ipython",
    "version": 3
   },
   "file_extension": ".py",
   "mimetype": "text/x-python",
   "name": "python",
   "nbconvert_exporter": "python",
   "pygments_lexer": "ipython3",
   "version": "3.12.4"
  }
 },
 "nbformat": 4,
 "nbformat_minor": 5
}
